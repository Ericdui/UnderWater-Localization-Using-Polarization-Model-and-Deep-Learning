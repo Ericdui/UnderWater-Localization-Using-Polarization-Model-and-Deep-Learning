{
 "cells": [
  {
   "cell_type": "code",
   "execution_count": 1,
   "metadata": {},
   "outputs": [
    {
     "name": "stderr",
     "output_type": "stream",
     "text": [
      "/Users/ericd/anaconda3/lib/python3.6/site-packages/h5py/__init__.py:36: FutureWarning: Conversion of the second argument of issubdtype from `float` to `np.floating` is deprecated. In future, it will be treated as `np.float64 == np.dtype(float).type`.\n",
      "  from ._conv import register_converters as _register_converters\n",
      "Using TensorFlow backend.\n"
     ]
    }
   ],
   "source": [
    "import numpy as np\n",
    "#import tensorflow as tf\n",
    "from keras import layers\n",
    "from keras.layers import Input, Dense, Activation, ZeroPadding2D, BatchNormalization, Flatten, Conv2D\n",
    "from keras.layers import AveragePooling2D, MaxPooling2D, Dropout, GlobalMaxPooling2D, GlobalAveragePooling2D\n",
    "from keras.models import Model\n",
    "from keras.preprocessing import image\n",
    "from keras.utils import layer_utils\n",
    "from keras.utils.data_utils import get_file\n",
    "from keras.applications.imagenet_utils import preprocess_input\n",
    "import pydot\n",
    "from IPython.display import SVG\n",
    "from keras.utils.vis_utils import model_to_dot\n",
    "from keras.utils import plot_model\n",
    "import keras\n",
    "\n",
    "import keras.backend as K\n",
    "K.set_image_data_format('channels_last')\n",
    "import matplotlib.pyplot as plt\n",
    "from matplotlib.pyplot import imshow\n",
    "\n",
    "from data_preprocessing import *\n",
    "\n",
    "from keras.models import load_model\n",
    "\n",
    "%matplotlib inline"
   ]
  },
  {
   "cell_type": "code",
   "execution_count": null,
   "metadata": {},
   "outputs": [],
   "source": []
  },
  {
   "cell_type": "markdown",
   "metadata": {},
   "source": [
    "# Get the training data and test data"
   ]
  },
  {
   "cell_type": "code",
   "execution_count": 7,
   "metadata": {},
   "outputs": [
    {
     "name": "stdout",
     "output_type": "stream",
     "text": [
      "number of training examples = 168\n",
      "number of test examples = 42\n",
      "X_train shape: (168, 100, 100, 16)\n",
      "Y_train shape: (168, 4)\n",
      "X_test shape: (42, 100, 100, 16)\n",
      "Y_test shape: (42, 4)\n"
     ]
    }
   ],
   "source": [
    "# last two para: training ratio, group\n",
    "X_train, Y_train, X_test, Y_test = process_data('239Final_Data', 'Cropped', 0.8, 7)\n",
    "\n",
    "print (\"number of training examples = \" + str(X_train.shape[0]))\n",
    "print (\"number of test examples = \" + str(X_test.shape[0]))\n",
    "print (\"X_train shape: \" + str(X_train.shape))\n",
    "print (\"Y_train shape: \" + str(Y_train.shape))\n",
    "print (\"X_test shape: \" + str(X_test.shape))\n",
    "print (\"Y_test shape: \" + str(Y_test.shape))"
   ]
  },
  {
   "cell_type": "markdown",
   "metadata": {},
   "source": [
    "# Trianing part"
   ]
  },
  {
   "cell_type": "code",
   "execution_count": 8,
   "metadata": {},
   "outputs": [],
   "source": [
    "def AOP_Models(input_shape):\n",
    "    \"\"\"\n",
    "    Arguments:\n",
    "    input_shape -- shape of the images of the dataset\n",
    "\n",
    "    Returns:\n",
    "    model -- a Model() instance in Keras\n",
    "    \"\"\"\n",
    "    X_input = Input(shape=input_shape)\n",
    "    X = ZeroPadding2D(padding=(1, 1))(X_input)\n",
    "    X = Conv2D(32, kernel_size=(3,3), strides=(1,1))(X)\n",
    "    X = BatchNormalization(axis=3)(X)\n",
    "    X = Activation('relu')(X)\n",
    "    X = MaxPooling2D(pool_size=(2,2), strides=(2,2), padding='valid')(X)\n",
    "    \n",
    "    X = ZeroPadding2D(padding=(1, 1))(X)\n",
    "    X = Conv2D(64, kernel_size=(3,3), strides=(1,1))(X)\n",
    "    X = BatchNormalization(axis=3)(X)\n",
    "    X = Activation('relu')(X)\n",
    "    X = MaxPooling2D(pool_size=(2,2), strides=(2,2), padding='valid')(X)\n",
    "    \n",
    "    X = ZeroPadding2D(padding=(1, 1))(X)\n",
    "    X = Conv2D(128, kernel_size=(3,3), strides=(1,1))(X)\n",
    "    X = BatchNormalization(axis=3)(X)\n",
    "    X = Activation('relu')(X)\n",
    "    X = MaxPooling2D(pool_size=(2,2), strides=(2,2), padding='valid')(X)\n",
    "    X = Dropout(0.25)(X)\n",
    "    \n",
    "    # FC\n",
    "    X = Flatten()(X)\n",
    "    X = Dropout(0.25)(X)\n",
    "    Y = Dense(4, activation='linear')(X)\n",
    "    \n",
    "    model = Model(inputs = X_input, outputs = Y, name='AOP_Models')\n",
    "    \n",
    "    return model"
   ]
  },
  {
   "cell_type": "code",
   "execution_count": 9,
   "metadata": {},
   "outputs": [],
   "source": [
    "# build model\n",
    "AOP_Models = AOP_Models((X_train.shape[1], X_train.shape[2], X_train.shape[3]))\n",
    "# set learning para\n",
    "AOP_Models.compile(optimizer=keras.optimizers.Adam(lr=0.001, beta_1=0.9, beta_2=0.999, epsilon=1e-08, decay=0.0), \\\n",
    "                   loss='mean_squared_error', metrics=['accuracy'])"
   ]
  },
  {
   "cell_type": "code",
   "execution_count": null,
   "metadata": {},
   "outputs": [],
   "source": [
    "# train\n",
    "AOP_train = AOP_Models.fit(x=X_train, y=Y_train, batch_size=32, epochs=20, shuffle = True)"
   ]
  },
  {
   "cell_type": "markdown",
   "metadata": {},
   "source": [
    "# detailed para"
   ]
  },
  {
   "cell_type": "code",
   "execution_count": 10,
   "metadata": {},
   "outputs": [
    {
     "name": "stdout",
     "output_type": "stream",
     "text": [
      "_________________________________________________________________\n",
      "Layer (type)                 Output Shape              Param #   \n",
      "=================================================================\n",
      "input_2 (InputLayer)         (None, 100, 100, 16)      0         \n",
      "_________________________________________________________________\n",
      "zero_padding2d_4 (ZeroPaddin (None, 102, 102, 16)      0         \n",
      "_________________________________________________________________\n",
      "conv2d_4 (Conv2D)            (None, 100, 100, 32)      4640      \n",
      "_________________________________________________________________\n",
      "batch_normalization_4 (Batch (None, 100, 100, 32)      128       \n",
      "_________________________________________________________________\n",
      "activation_4 (Activation)    (None, 100, 100, 32)      0         \n",
      "_________________________________________________________________\n",
      "max_pooling2d_4 (MaxPooling2 (None, 50, 50, 32)        0         \n",
      "_________________________________________________________________\n",
      "zero_padding2d_5 (ZeroPaddin (None, 52, 52, 32)        0         \n",
      "_________________________________________________________________\n",
      "conv2d_5 (Conv2D)            (None, 50, 50, 64)        18496     \n",
      "_________________________________________________________________\n",
      "batch_normalization_5 (Batch (None, 50, 50, 64)        256       \n",
      "_________________________________________________________________\n",
      "activation_5 (Activation)    (None, 50, 50, 64)        0         \n",
      "_________________________________________________________________\n",
      "max_pooling2d_5 (MaxPooling2 (None, 25, 25, 64)        0         \n",
      "_________________________________________________________________\n",
      "zero_padding2d_6 (ZeroPaddin (None, 27, 27, 64)        0         \n",
      "_________________________________________________________________\n",
      "conv2d_6 (Conv2D)            (None, 25, 25, 128)       73856     \n",
      "_________________________________________________________________\n",
      "batch_normalization_6 (Batch (None, 25, 25, 128)       512       \n",
      "_________________________________________________________________\n",
      "activation_6 (Activation)    (None, 25, 25, 128)       0         \n",
      "_________________________________________________________________\n",
      "max_pooling2d_6 (MaxPooling2 (None, 12, 12, 128)       0         \n",
      "_________________________________________________________________\n",
      "dropout_3 (Dropout)          (None, 12, 12, 128)       0         \n",
      "_________________________________________________________________\n",
      "flatten_2 (Flatten)          (None, 18432)             0         \n",
      "_________________________________________________________________\n",
      "dropout_4 (Dropout)          (None, 18432)             0         \n",
      "_________________________________________________________________\n",
      "dense_2 (Dense)              (None, 4)                 73732     \n",
      "=================================================================\n",
      "Total params: 171,620\n",
      "Trainable params: 171,172\n",
      "Non-trainable params: 448\n",
      "_________________________________________________________________\n"
     ]
    }
   ],
   "source": [
    "AOP_Models.summary()"
   ]
  },
  {
   "cell_type": "markdown",
   "metadata": {},
   "source": [
    "# plot loss"
   ]
  },
  {
   "cell_type": "code",
   "execution_count": null,
   "metadata": {
    "scrolled": true
   },
   "outputs": [],
   "source": [
    "loss = AOP_train.history['loss']\n",
    "epochs = range(len(loss))\n",
    "\n",
    "plt.plot(epochs, loss, 'b-')\n",
    "\n",
    "plt.show()"
   ]
  },
  {
   "cell_type": "code",
   "execution_count": null,
   "metadata": {},
   "outputs": [],
   "source": []
  },
  {
   "cell_type": "markdown",
   "metadata": {},
   "source": [
    "# test with exist model"
   ]
  },
  {
   "cell_type": "code",
   "execution_count": 13,
   "metadata": {},
   "outputs": [],
   "source": [
    "# read model\n",
    "AOP_Models = load_model('Aop_model.h5')\n",
    "# predict\n",
    "predicted = AOP_Models.predict(X_test)"
   ]
  },
  {
   "cell_type": "code",
   "execution_count": 24,
   "metadata": {},
   "outputs": [
    {
     "name": "stdout",
     "output_type": "stream",
     "text": [
      "[-42.603226  -9.587901  40.74276  -41.833324] [-25.08  -3.3   23.58 -24.42]\n",
      "[-39.67028   -9.222541  37.220108 -38.334404] [-25.08  -3.3   23.58 -24.42]\n",
      "[-38.751938   -7.1036997  38.83047   -39.473476 ] [-25.08  -3.3   23.58 -24.42]\n",
      "[-39.32129   -8.28989   37.79162  -38.418926] [-25.08  -3.3   23.58 -24.42]\n",
      "[-36.127567  -8.778581  33.73651  -35.178257] [-25.08  -3.3   23.58 -24.42]\n",
      "[-31.803783  -6.46568   31.473047 -32.038956] [-25.08  -3.3   23.58 -24.42]\n",
      "[ 54.71735   12.744027 -43.795517  47.97171 ] [ 74.53  10.11 -69.68  72.34]\n",
      "[ 55.30235   15.090723 -42.304348  46.8069  ] [ 74.53  10.11 -69.68  72.34]\n",
      "[ 56.348026  14.359427 -44.435333  48.684483] [ 74.53  10.11 -69.68  72.34]\n",
      "[ 46.912373  11.169034 -37.2084    40.95695 ] [ 74.53  10.11 -69.68  72.34]\n",
      "[ 52.286793  11.238951 -42.581436  46.368767] [ 74.53  10.11 -69.68  72.34]\n",
      "[ 52.61417   11.820437 -42.91353   47.15606 ] [ 74.53  10.11 -69.68  72.34]\n",
      "[-91.05368  -25.771152  96.05138  -94.78714 ] [-93.41 -30.85  90.95 -92.3 ]\n",
      "[-94.07444  -27.918592  95.973015 -95.77153 ] [-93.41 -30.85  90.95 -92.3 ]\n",
      "[-91.765495 -26.18117   95.85545  -95.2451  ] [-93.41 -30.85  90.95 -92.3 ]\n",
      "[-91.04834  -25.712578  95.13889  -94.48825 ] [-93.41 -30.85  90.95 -92.3 ]\n",
      "[-91.40785  -26.833828  93.93054  -93.37292 ] [-93.41 -30.85  90.95 -92.3 ]\n",
      "[-92.85574  -28.163042  94.43084  -94.24671 ] [-93.41 -30.85  90.95 -92.3 ]\n",
      "[-92.27529   -9.421457  97.848206 -96.724075] [-88.57 -18.35  84.95 -86.94]\n",
      "[-80.11998   -7.011359  86.87474  -85.38626 ] [-88.57 -18.35  84.95 -86.94]\n",
      "[-86.17696   -9.590033  91.68983  -90.45384 ] [-88.57 -18.35  84.95 -86.94]\n",
      "[-93.75756  -11.183531  97.61316  -97.00913 ] [-88.57 -18.35  84.95 -86.94]\n",
      "[-92.439705  -8.892398  98.91469  -97.61106 ] [-88.57 -18.35  84.95 -86.94]\n",
      "[-92.063896 -10.258172  97.4365   -96.049934] [-88.57 -18.35  84.95 -86.94]\n",
      "[94.32397  95.02833   8.585174 26.059008] [93.41 92.3  -0.   30.85]\n",
      "[94.38402  96.07224   8.877998 25.681488] [93.41 92.3  -0.   30.85]\n",
      "[95.172966  95.76608    7.1906343 27.399902 ] [93.41 92.3  -0.   30.85]\n",
      "[94.78368  94.11871   5.766652 28.067142] [93.41 92.3  -0.   30.85]\n",
      "[93.4911   94.198845  8.230562 25.966532] [93.41 92.3  -0.   30.85]\n",
      "[93.72723  96.86804  10.117503 24.523731] [93.41 92.3  -0.   30.85]\n",
      "[-106.33805   -87.896805   21.561264  -31.945072] [-74.53 -72.34  -0.   -10.11]\n",
      "[-105.11456   -88.54061    18.336908  -28.736296] [-74.53 -72.34  -0.   -10.11]\n",
      "[-100.76963   -84.81803    18.50711   -27.672312] [-74.53 -72.34  -0.   -10.11]\n",
      "[-103.389885  -84.08257    23.106699  -32.19006 ] [-74.53 -72.34  -0.   -10.11]\n",
      "[-106.97704   -88.21126    21.987022  -31.93773 ] [-74.53 -72.34  -0.   -10.11]\n",
      "[-100.30979   -82.324745   22.10433   -30.965425] [-74.53 -72.34  -0.   -10.11]\n",
      "[14.4208355 18.027388   8.187174  -4.8332767] [25.08 24.42  0.    3.3 ]\n",
      "[ 9.115392 16.86925  13.532407 -9.461813] [25.08 24.42  0.    3.3 ]\n",
      "[12.483315 20.105621 14.12332  -9.832898] [25.08 24.42  0.    3.3 ]\n",
      "[17.82971   19.997498   6.4224167 -2.8708189] [25.08 24.42  0.    3.3 ]\n",
      "[13.426054 19.854126  9.88231  -5.7991  ] [25.08 24.42  0.    3.3 ]\n",
      "[ 14.908688  25.05237   15.748641 -10.781932] [25.08 24.42  0.    3.3 ]\n"
     ]
    }
   ],
   "source": [
    "# see the difference between predict and truth\n",
    "for i in range(len(predicted)):\n",
    "    p = predicted[i]\n",
    "    t = Y_test[i]\n",
    "    print(p, t)"
   ]
  },
  {
   "cell_type": "code",
   "execution_count": 36,
   "metadata": {},
   "outputs": [
    {
     "data": {
      "image/png": "[encoded data removed]",
      "text/plain": [
       "<Figure size 432x288 with 1 Axes>"
      ]
     },
     "metadata": {},
     "output_type": "display_data"
    }
   ],
   "source": [
    "degree = [0, 45, 90, -45]\n",
    "new_predicts = zip(*predicted)\n",
    "i = 0\n",
    "for new_predict in new_predicts:\n",
    "    plt.plot(new_predict, label = 'predicted AOP in cam head %d'%degree[i])\n",
    "    i += 1\n",
    "    \n",
    "plt.legend()\n",
    "plt.title('predicted AOP')\n",
    "plt.show()"
   ]
  },
  {
   "cell_type": "code",
   "execution_count": 37,
   "metadata": {},
   "outputs": [
    {
     "data": {
      "image/png": "[encoded data removed]",
      "text/plain": [
       "<Figure size 432x288 with 1 Axes>"
      ]
     },
     "metadata": {},
     "output_type": "display_data"
    }
   ],
   "source": [
    "degree = [0, 45, 90, -45]\n",
    "new_Y_tests = zip(*Y_test)\n",
    "i = 0\n",
    "for new_Y_test in new_Y_tests:\n",
    "    plt.plot(new_Y_test, label = 'True AOP in cam head %d'%degree[i])\n",
    "    i += 1\n",
    "    \n",
    "plt.legend()\n",
    "plt.title('True AOP')\n",
    "plt.show()"
   ]
  },
  {
   "cell_type": "code",
   "execution_count": 20,
   "metadata": {},
   "outputs": [
    {
     "name": "stdout",
     "output_type": "stream",
     "text": [
      "[35, -90]\n",
      "[35, -90]\n",
      "[35, -90]\n",
      "[35, -90]\n",
      "[35, -90]\n",
      "[35, -90]\n",
      "[45, -90]\n",
      "[45, -90]\n",
      "[45, -90]\n",
      "[45, -90]\n",
      "[45, -90]\n",
      "[45, -90]\n",
      "[30, -90]\n",
      "[30, -90]\n",
      "[30, -90]\n",
      "[30, -90]\n",
      "[30, -90]\n",
      "[30, -90]\n",
      "[5, -90]\n",
      "[5, -90]\n",
      "[5, -90]\n",
      "[5, -90]\n",
      "[5, -90]\n",
      "[5, -90]\n",
      "[30, 90]\n",
      "[30, 90]\n",
      "[30, 90]\n",
      "[30, 90]\n",
      "[30, 90]\n",
      "[30, 90]\n",
      "[20, 90]\n",
      "[20, 90]\n",
      "[20, 90]\n",
      "[20, 90]\n",
      "[20, 90]\n",
      "[20, 90]\n",
      "[50, 90]\n",
      "[25, 90]\n",
      "[50, 90]\n",
      "[50, 90]\n",
      "[50, 90]\n",
      "[50, 90]\n"
     ]
    }
   ],
   "source": [
    "#generate ground truth\n",
    "from generate_scm_table import *\n",
    "# sun_az, sun_zen_low, sun_zen_high, sun_zen_inter, cam_head_low, cam_head_high, cam_head_inter\n",
    "truth_map, aop_all = aop_2_truthMap(90, 5, 65, 5, -45, 90, 45)\n",
    "\n",
    "# predict\n",
    "for i in range(len(predicted)):\n",
    "    p = predicted[i].reshape(1, 4)\n",
    "    diff = np.linalg.norm(aop_all - p, axis = 1)\n",
    "    small_idx = np.argmin(diff)\n",
    "    print(truth_map[small_idx])"
   ]
  },
  {
   "cell_type": "markdown",
   "metadata": {},
   "source": [
    "# Saving model"
   ]
  },
  {
   "cell_type": "code",
   "execution_count": null,
   "metadata": {},
   "outputs": [],
   "source": [
    "AOP_Models.save('Aop_model.h5')  # creates a HDF5 file 'my_model.h5'\n",
    "# del model  # deletes the existing model\n",
    " \n",
    "# returns a compiled model\n",
    "# identical to the previous one\n",
    "# model = load_model('my_model.h5')"
   ]
  },
  {
   "cell_type": "code",
   "execution_count": null,
   "metadata": {},
   "outputs": [],
   "source": []
  },
  {
   "cell_type": "code",
   "execution_count": null,
   "metadata": {},
   "outputs": [],
   "source": []
  },
  {
   "cell_type": "code",
   "execution_count": null,
   "metadata": {},
   "outputs": [],
   "source": []
  }
 ],
 "metadata": {
  "kernelspec": {
   "display_name": "Python 3",
   "language": "python",
   "name": "python3"
  },
  "language_info": {
   "codemirror_mode": {
    "name": "ipython",
    "version": 3
   },
   "file_extension": ".py",
   "mimetype": "text/x-python",
   "name": "python",
   "nbconvert_exporter": "python",
   "pygments_lexer": "ipython3",
   "version": "3.6.5"
  }
 },
 "nbformat": 4,
 "nbformat_minor": 2
}
